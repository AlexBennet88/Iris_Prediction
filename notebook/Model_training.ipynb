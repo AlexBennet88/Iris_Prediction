{
 "cells": [
  {
   "cell_type": "code",
   "execution_count": 129,
   "metadata": {},
   "outputs": [],
   "source": [
    "import numpy as np\n",
    "import pandas as pd\n",
    "import matplotlib.pyplot as plt\n",
    "import seaborn as sns\n",
    "import warnings\n",
    "warnings.filterwarnings('ignore')\n",
    "\n",
    "# Modeling\n",
    "from sklearn.neighbors import KNeighborsRegressor\n",
    "from sklearn.tree import DecisionTreeRegressor\n",
    "from sklearn.ensemble import RandomForestRegressor, AdaBoostRegressor\n",
    "from sklearn.svm import SVR\n",
    "from sklearn.linear_model import LinearRegression, Ridge, Lasso\n",
    "from sklearn.metrics import r2_score, mean_absolute_error, mean_squared_error\n",
    "from sklearn.model_selection import RandomizedSearchCV\n",
    "from catboost import CatBoostRegressor\n",
    "from xgboost import XGBRegressor\n"
   ]
  },
  {
   "cell_type": "code",
   "execution_count": 130,
   "metadata": {},
   "outputs": [],
   "source": [
    "df = pd.read_csv('data/StudentsPerformance.csv')"
   ]
  },
  {
   "cell_type": "code",
   "execution_count": 131,
   "metadata": {},
   "outputs": [],
   "source": [
    "X = df"
   ]
  },
  {
   "cell_type": "code",
   "execution_count": 132,
   "metadata": {},
   "outputs": [],
   "source": [
    "scores = [feature for feature in df.columns if df[feature].dtype != 'O']\n",
    "y = df[scores].sum(axis=1)"
   ]
  },
  {
   "cell_type": "code",
   "execution_count": 133,
   "metadata": {},
   "outputs": [],
   "source": [
    "num_features = X.select_dtypes(exclude='object').columns\n",
    "cat_features = X.select_dtypes(include='object').columns"
   ]
  },
  {
   "cell_type": "code",
   "execution_count": 134,
   "metadata": {},
   "outputs": [
    {
     "data": {
      "text/plain": [
       "Index(['gender', 'race/ethnicity', 'parental level of education', 'lunch',\n",
       "       'test preparation course'],\n",
       "      dtype='object')"
      ]
     },
     "execution_count": 134,
     "metadata": {},
     "output_type": "execute_result"
    }
   ],
   "source": [
    "cat_features"
   ]
  },
  {
   "cell_type": "code",
   "execution_count": 135,
   "metadata": {},
   "outputs": [],
   "source": [
    "from sklearn.preprocessing import OneHotEncoder, StandardScaler\n",
    "from sklearn.compose import ColumnTransformer\n",
    " \n",
    "numeric_transformer = StandardScaler()\n",
    "one_hot = OneHotEncoder()\n",
    "\n",
    "preprocessor = ColumnTransformer(\n",
    "    [\n",
    "        ('OneHotEncoder',one_hot,cat_features),\n",
    "        ('StandardScaler',numeric_transformer, num_features)\n",
    "    ]\n",
    ")\n",
    "\n",
    "X = preprocessor.fit_transform(X)"
   ]
  },
  {
   "cell_type": "code",
   "execution_count": 136,
   "metadata": {},
   "outputs": [
    {
     "data": {
      "text/plain": [
       "(1000, 20)"
      ]
     },
     "execution_count": 136,
     "metadata": {},
     "output_type": "execute_result"
    }
   ],
   "source": [
    "X.shape"
   ]
  },
  {
   "cell_type": "code",
   "execution_count": 137,
   "metadata": {},
   "outputs": [
    {
     "data": {
      "text/plain": [
       "((800, 20), (800,))"
      ]
     },
     "execution_count": 137,
     "metadata": {},
     "output_type": "execute_result"
    }
   ],
   "source": [
    "from sklearn.model_selection import train_test_split\n",
    "\n",
    "X_train, X_test, y_train, y_test = train_test_split(X, y, test_size=.2)\n",
    "\n",
    "X_train.shape, y_train.shape"
   ]
  },
  {
   "cell_type": "code",
   "execution_count": 138,
   "metadata": {},
   "outputs": [],
   "source": [
    "def eval_metrics(true, predicted):\n",
    "    mae = round(mean_absolute_error(true, predicted), 4)\n",
    "    mse = round(mean_squared_error(true, predicted), 4)\n",
    "    rmse = round(np.sqrt(mean_squared_error(true, predicted)), 4)\n",
    "    r2_square = round(r2_score(true, predicted), 4)\n",
    "    return mae, mse, rmse, r2_square"
   ]
  },
  {
   "cell_type": "code",
   "execution_count": 139,
   "metadata": {},
   "outputs": [],
   "source": [
    "models = {\n",
    "    'Linear Regression': LinearRegression(),\n",
    "    'Lasso': Lasso(),\n",
    "    'Ridge': Ridge(),\n",
    "    'K-Neighbors Regressor': KNeighborsRegressor(),\n",
    "    'Decision Tree': DecisionTreeRegressor(),\n",
    "    'Random Forest Regressor': RandomForestRegressor(),\n",
    "    'XGBRegressor': XGBRegressor(),\n",
    "    'CatBoosting Regressor': CatBoostRegressor(verbose=False),\n",
    "    'AdaBoost Regressor': AdaBoostRegressor()\n",
    "}\n",
    "\n"
   ]
  },
  {
   "cell_type": "code",
   "execution_count": 140,
   "metadata": {},
   "outputs": [
    {
     "name": "stdout",
     "output_type": "stream",
     "text": [
      "Linear Regression has scores:\n",
      "MAE: 0.0\n",
      "MSE: 0.0\n",
      "RMSE: 0.0\n",
      "R_square: 1.0\n",
      "Lasso has scores:\n",
      "MAE: 0.8504\n",
      "MSE: 1.1044\n",
      "RMSE: 1.0509\n",
      "R_square: 0.9994\n",
      "Ridge has scores:\n",
      "MAE: 0.0187\n",
      "MSE: 0.0005\n",
      "RMSE: 0.0233\n",
      "R_square: 1.0\n",
      "K-Neighbors Regressor has scores:\n",
      "MAE: 6.699\n",
      "MSE: 70.0662\n",
      "RMSE: 8.3706\n",
      "R_square: 0.9603\n",
      "Decision Tree has scores:\n",
      "MAE: 3.325\n",
      "MSE: 20.405\n",
      "RMSE: 4.5172\n",
      "R_square: 0.9884\n",
      "Random Forest Regressor has scores:\n",
      "MAE: 1.4695\n",
      "MSE: 4.918\n",
      "RMSE: 2.2177\n",
      "R_square: 0.9972\n",
      "XGBRegressor has scores:\n",
      "MAE: 1.5481\n",
      "MSE: 4.3381\n",
      "RMSE: 2.0828\n",
      "R_square: 0.9975\n",
      "CatBoosting Regressor has scores:\n",
      "MAE: 0.6842\n",
      "MSE: 1.1237\n",
      "RMSE: 1.06\n",
      "R_square: 0.9994\n",
      "AdaBoost Regressor has scores:\n",
      "MAE: 5.1063\n",
      "MSE: 42.3152\n",
      "RMSE: 6.505\n",
      "R_square: 0.976\n"
     ]
    }
   ],
   "source": [
    "r_2= {}\n",
    "for model_name,model in models.items():\n",
    "    model.fit(X_train, y_train)\n",
    "\n",
    "    # Make predictions\n",
    "    \n",
    "    y_pred = model.predict(X_test)\n",
    "    model_mae, model_mse, model_rmse, model_r2 = eval_metrics(y_test, y_pred)\n",
    "    print(f'{model_name} has scores:') \n",
    "    print('MAE: {}'.format(model_mae))\n",
    "    print('MSE: {}'.format(model_mse))\n",
    "    print('RMSE: {}'.format(model_rmse))\n",
    "    print('R_square: {}'.format(model_r2))\n",
    "    r_2[model_name] = model_r2\n",
    "    "
   ]
  },
  {
   "cell_type": "code",
   "execution_count": 141,
   "metadata": {},
   "outputs": [
    {
     "data": {
      "text/plain": [
       "{'Linear Regression': 1.0,\n",
       " 'Lasso': 0.9994,\n",
       " 'Ridge': 1.0,\n",
       " 'K-Neighbors Regressor': 0.9603,\n",
       " 'Decision Tree': 0.9884,\n",
       " 'Random Forest Regressor': 0.9972,\n",
       " 'XGBRegressor': 0.9975,\n",
       " 'CatBoosting Regressor': 0.9994,\n",
       " 'AdaBoost Regressor': 0.976}"
      ]
     },
     "execution_count": 141,
     "metadata": {},
     "output_type": "execute_result"
    }
   ],
   "source": [
    "r_2"
   ]
  },
  {
   "cell_type": "code",
   "execution_count": 142,
   "metadata": {},
   "outputs": [],
   "source": [
    "x = zip(r_2.items())"
   ]
  },
  {
   "cell_type": "code",
   "execution_count": 143,
   "metadata": {},
   "outputs": [
    {
     "data": {
      "text/html": [
       "<div>\n",
       "<style scoped>\n",
       "    .dataframe tbody tr th:only-of-type {\n",
       "        vertical-align: middle;\n",
       "    }\n",
       "\n",
       "    .dataframe tbody tr th {\n",
       "        vertical-align: top;\n",
       "    }\n",
       "\n",
       "    .dataframe thead th {\n",
       "        text-align: right;\n",
       "    }\n",
       "</style>\n",
       "<table border=\"1\" class=\"dataframe\">\n",
       "  <thead>\n",
       "    <tr style=\"text-align: right;\">\n",
       "      <th></th>\n",
       "      <th>Model Name</th>\n",
       "      <th>R_2 Score</th>\n",
       "    </tr>\n",
       "  </thead>\n",
       "  <tbody>\n",
       "    <tr>\n",
       "      <th>0</th>\n",
       "      <td>Linear Regression</td>\n",
       "      <td>1.0000</td>\n",
       "    </tr>\n",
       "    <tr>\n",
       "      <th>2</th>\n",
       "      <td>Ridge</td>\n",
       "      <td>1.0000</td>\n",
       "    </tr>\n",
       "    <tr>\n",
       "      <th>1</th>\n",
       "      <td>Lasso</td>\n",
       "      <td>0.9994</td>\n",
       "    </tr>\n",
       "    <tr>\n",
       "      <th>7</th>\n",
       "      <td>CatBoosting Regressor</td>\n",
       "      <td>0.9994</td>\n",
       "    </tr>\n",
       "    <tr>\n",
       "      <th>6</th>\n",
       "      <td>XGBRegressor</td>\n",
       "      <td>0.9975</td>\n",
       "    </tr>\n",
       "    <tr>\n",
       "      <th>5</th>\n",
       "      <td>Random Forest Regressor</td>\n",
       "      <td>0.9972</td>\n",
       "    </tr>\n",
       "    <tr>\n",
       "      <th>4</th>\n",
       "      <td>Decision Tree</td>\n",
       "      <td>0.9884</td>\n",
       "    </tr>\n",
       "    <tr>\n",
       "      <th>8</th>\n",
       "      <td>AdaBoost Regressor</td>\n",
       "      <td>0.9760</td>\n",
       "    </tr>\n",
       "    <tr>\n",
       "      <th>3</th>\n",
       "      <td>K-Neighbors Regressor</td>\n",
       "      <td>0.9603</td>\n",
       "    </tr>\n",
       "  </tbody>\n",
       "</table>\n",
       "</div>"
      ],
      "text/plain": [
       "                Model Name  R_2 Score\n",
       "0        Linear Regression     1.0000\n",
       "2                    Ridge     1.0000\n",
       "1                    Lasso     0.9994\n",
       "7    CatBoosting Regressor     0.9994\n",
       "6             XGBRegressor     0.9975\n",
       "5  Random Forest Regressor     0.9972\n",
       "4            Decision Tree     0.9884\n",
       "8       AdaBoost Regressor     0.9760\n",
       "3    K-Neighbors Regressor     0.9603"
      ]
     },
     "execution_count": 143,
     "metadata": {},
     "output_type": "execute_result"
    }
   ],
   "source": [
    "pd.DataFrame(list(zip(r_2.keys(), r_2.values())), columns=['Model Name','R_2 Score'])\\\n",
    "    .sort_values(by='R_2 Score', ascending=False)"
   ]
  },
  {
   "cell_type": "code",
   "execution_count": 144,
   "metadata": {},
   "outputs": [
    {
     "data": {
      "image/png": "[encoded data removed]",
      "text/plain": [
       "<Figure size 640x480 with 1 Axes>"
      ]
     },
     "metadata": {},
     "output_type": "display_data"
    }
   ],
   "source": [
    "plt.scatter(y_test, y_pred);"
   ]
  },
  {
   "cell_type": "code",
   "execution_count": null,
   "metadata": {},
   "outputs": [
    {
     "data": {
      "text/plain": [
       "<Axes: >"
      ]
     },
     "execution_count": 147,
     "metadata": {},
     "output_type": "execute_result"
    },
    {
     "data": {
      "image/png": "[encoded data removed]",
      "text/plain": [
       "<Figure size 640x480 with 1 Axes>"
      ]
     },
     "metadata": {},
     "output_type": "display_data"
    }
   ],
   "source": [
    "sns.regplot(x=y_test, y=y_pred, ci=2, color='red')\n",
    "\n",
    "# seaborn.regplot() function is a combined scatter plot + regression line plot. It’s commonly used to visualize the linear relationship between two numeric variables\n",
    "# it tells you how well the predicted values match the true values"
   ]
  },
  {
   "cell_type": "code",
   "execution_count": null,
   "metadata": {},
   "outputs": [],
   "source": []
  }
 ],
 "metadata": {
  "kernelspec": {
   "display_name": "Python 3",
   "language": "python",
   "name": "python3"
  },
  "language_info": {
   "codemirror_mode": {
    "name": "ipython",
    "version": 3
   },
   "file_extension": ".py",
   "mimetype": "text/x-python",
   "name": "python",
   "nbconvert_exporter": "python",
   "pygments_lexer": "ipython3",
   "version": "3.13.5"
  }
 },
 "nbformat": 4,
 "nbformat_minor": 2
}
